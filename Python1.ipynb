{
 "cells": [
  {
   "cell_type": "code",
   "execution_count": 2,
   "metadata": {},
   "outputs": [
    {
     "name": "stdout",
     "output_type": "stream",
     "text": [
      "x is greater than 5\n"
     ]
    }
   ],
   "source": [
    "x = 10\n",
    "if x > 5:\n",
    "    print(\"x is greater than 5\")\n"
   ]
  },
  {
   "cell_type": "code",
   "execution_count": 3,
   "metadata": {},
   "outputs": [
    {
     "name": "stdout",
     "output_type": "stream",
     "text": [
      "x is not greater than 5\n"
     ]
    }
   ],
   "source": [
    "x = 4\n",
    "if x > 5:\n",
    "    print(\"x is greater than 5\")\n",
    "else:\n",
    "    print(\"x is not greater than 5\")"
   ]
  },
  {
   "cell_type": "code",
   "execution_count": 4,
   "metadata": {},
   "outputs": [
    {
     "name": "stdout",
     "output_type": "stream",
     "text": [
      "x is 10\n"
     ]
    }
   ],
   "source": [
    "x = 10\n",
    "if x < 5:\n",
    "    print(\"x is less than 5\")\n",
    "elif x == 10:\n",
    "    print(\"x is 10\")\n",
    "else:\n",
    "    print(\"x is greater than 5 but not equal to 10\")"
   ]
  },
  {
   "cell_type": "code",
   "execution_count": 5,
   "metadata": {},
   "outputs": [
    {
     "name": "stdout",
     "output_type": "stream",
     "text": [
      "x is greater than 5 and y is greater than 15\n"
     ]
    }
   ],
   "source": [
    "x = 10\n",
    "y = 20\n",
    "if x > 5:\n",
    "    if y > 15:\n",
    "        print(\"x is greater than 5 and y is greater than 15\")"
   ]
  },
  {
   "cell_type": "code",
   "execution_count": 6,
   "metadata": {},
   "outputs": [
    {
     "name": "stdout",
     "output_type": "stream",
     "text": [
      "x is greater than 5\n"
     ]
    }
   ],
   "source": [
    "x = 10\n",
    "result = \"x is greater than 5\" if x > 5 else\"x is not greater than 5\"\n",
    "print(result)"
   ]
  },
  {
   "cell_type": "code",
   "execution_count": 7,
   "metadata": {},
   "outputs": [
    {
     "name": "stdout",
     "output_type": "stream",
     "text": [
      "7 is odd\n"
     ]
    }
   ],
   "source": [
    "num = 7\n",
    "if num % 2 == 0:\n",
    "    print(f\"{num} is even\")\n",
    "else:\n",
    "    print(f\"{num} is odd\")"
   ]
  },
  {
   "cell_type": "code",
   "execution_count": 8,
   "metadata": {},
   "outputs": [
    {
     "name": "stdout",
     "output_type": "stream",
     "text": [
      "grade : B\n"
     ]
    }
   ],
   "source": [
    "score = 85\n",
    "if score >= 90:\n",
    "    grade = 'A'\n",
    "elif score >= 80:\n",
    "    grade = 'B'\n",
    "elif score >= 70:\n",
    "    grade = 'C'\n",
    "elif score >= 60:\n",
    "    grade = 'D'\n",
    "else:\n",
    "    grade = 'F'\n",
    "print(f\"grade : {grade}\")"
   ]
  },
  {
   "cell_type": "code",
   "execution_count": 28,
   "metadata": {},
   "outputs": [
    {
     "name": "stdout",
     "output_type": "stream",
     "text": [
      "a is the smallest value\n"
     ]
    }
   ],
   "source": [
    "a = 1\n",
    "b = 200\n",
    "c = 3\n",
    "if a < b and a < c:\n",
    "    print(\"a is the smallest value\")\n",
    "elif  b < a and b < c:\n",
    "  print(\"b is the smallest value\")\n",
    "else:\n",
    "   print(\"c is  the smallest value\")\n"
   ]
  },
  {
   "cell_type": "code",
   "execution_count": 30,
   "metadata": {},
   "outputs": [
    {
     "name": "stdout",
     "output_type": "stream",
     "text": [
      "c is the greatest\n"
     ]
    }
   ],
   "source": [
    "a = 20\n",
    "b = 40\n",
    "c = 60\n",
    "d = 50\n",
    "if a > b and a > c and a > d:\n",
    "    print(\"a is the greatest\")\n",
    "if b > a and b > c and b > d:\n",
    "    print(\"b is the greatest\")\n",
    "if c > a and c > b and c > d:\n",
    "    print(\"c is the greatest\")\n",
    "if d > a and d > b and d > c:\n",
    "    print(\"d is the greatest\")"
   ]
  },
  {
   "cell_type": "code",
   "execution_count": 31,
   "metadata": {},
   "outputs": [
    {
     "name": "stdout",
     "output_type": "stream",
     "text": [
      "a\n",
      "n\n",
      "s\n",
      "f\n"
     ]
    }
   ],
   "source": [
    "name = \"ansf\"\n",
    "for i in name:\n",
    "    print(i)"
   ]
  },
  {
   "cell_type": "code",
   "execution_count": null,
   "metadata": {},
   "outputs": [
    {
     "name": "stdout",
     "output_type": "stream",
     "text": [
      "0\n",
      "1\n",
      "2\n",
      "3\n",
      "4\n",
      "5\n",
      "6\n",
      "7\n",
      "8\n",
      "9\n"
     ]
    }
   ],
   "source": [
    "for i in range(10):\n",
    "    print(i)\n",
    "    "
   ]
  },
  {
   "cell_type": "code",
   "execution_count": 33,
   "metadata": {},
   "outputs": [
    {
     "name": "stdout",
     "output_type": "stream",
     "text": [
      "11\n",
      "12\n",
      "13\n",
      "14\n",
      "15\n",
      "16\n",
      "17\n",
      "18\n",
      "19\n"
     ]
    }
   ],
   "source": [
    "for i in range(11,20):\n",
    "    print(i)"
   ]
  },
  {
   "cell_type": "code",
   "execution_count": 35,
   "metadata": {},
   "outputs": [
    {
     "name": "stdout",
     "output_type": "stream",
     "text": [
      "1\n",
      "4\n",
      "7\n",
      "10\n",
      "13\n",
      "16\n",
      "19\n"
     ]
    }
   ],
   "source": [
    "for i in range(1,20,3):\n",
    "    print(i)"
   ]
  },
  {
   "cell_type": "code",
   "execution_count": 1,
   "metadata": {},
   "outputs": [
    {
     "name": "stdout",
     "output_type": "stream",
     "text": [
      "hello, world!\n"
     ]
    }
   ],
   "source": [
    "def greet():\n",
    "    print(\"hello, world!\")\n",
    "greet()    "
   ]
  },
  {
   "cell_type": "code",
   "execution_count": 10,
   "metadata": {},
   "outputs": [
    {
     "name": "stdout",
     "output_type": "stream",
     "text": [
      "hello ! Pankaj\n",
      "hello ! joy\n"
     ]
    }
   ],
   "source": [
    "def greet(name):\n",
    "    print(\"hello !\",name)\n",
    "greet(\"Pankaj\")   \n",
    "greet(\"joy\") "
   ]
  },
  {
   "cell_type": "code",
   "execution_count": 11,
   "metadata": {},
   "outputs": [
    {
     "name": "stdout",
     "output_type": "stream",
     "text": [
      "10\n"
     ]
    }
   ],
   "source": [
    "def add(a, b):\n",
    "    return a + b\n",
    "result = add(6, 4)\n",
    "print (result)"
   ]
  },
  {
   "cell_type": "code",
   "execution_count": 12,
   "metadata": {},
   "outputs": [
    {
     "name": "stdout",
     "output_type": "stream",
     "text": [
      "110\n"
     ]
    }
   ],
   "source": [
    "def add(a, b):\n",
    "    return a + b\n",
    "result = add(44, 66)\n",
    "print (result)"
   ]
  },
  {
   "cell_type": "code",
   "execution_count": 19,
   "metadata": {},
   "outputs": [
    {
     "name": "stdout",
     "output_type": "stream",
     "text": [
      "hello ! Pankaj Kumar !\n"
     ]
    }
   ],
   "source": [
    "def greet(first_name, last_name):\n",
    "    print(\"hello !\",first_name, last_name,'!')\n",
    "\n",
    "\n",
    "\n",
    "greet(\"Pankaj\",\"Kumar\")\n"
   ]
  },
  {
   "cell_type": "code",
   "execution_count": 20,
   "metadata": {},
   "outputs": [
    {
     "name": "stdout",
     "output_type": "stream",
     "text": [
      "hello Ammaar Kotwal\n"
     ]
    }
   ],
   "source": [
    "def greet(first_name, last_name):\n",
    "    print(\"hello\",first_name, last_name)\n",
    "greet(\"Ammaar\", \"Kotwal\")   "
   ]
  },
  {
   "cell_type": "code",
   "execution_count": 27,
   "metadata": {},
   "outputs": [
    {
     "name": "stdout",
     "output_type": "stream",
     "text": [
      "hello guest !\n",
      "hello pankaj !\n"
     ]
    }
   ],
   "source": [
    "def greet(name =\"guest\"):\n",
    "    print(\"hello\",name, \"!\")\n",
    "greet()\n",
    "greet(\"pankaj\")"
   ]
  },
  {
   "cell_type": "code",
   "execution_count": null,
   "metadata": {},
   "outputs": [
    {
     "name": "stdout",
     "output_type": "stream",
     "text": [
      "www.codeswithpankaj.com\n",
      "www.p4n.in\n"
     ]
    }
   ],
   "source": [
    "def WebAddress():\n",
    "    print(\"www.codeswithpankaj.com\")\n",
    "    print(\"www.p4n.in\")\n",
    "WebAddress()"
   ]
  },
  {
   "cell_type": "code",
   "execution_count": 30,
   "metadata": {},
   "outputs": [
    {
     "name": "stdout",
     "output_type": "stream",
     "text": [
      "my name is : Rahul\n",
      "My age is : 18\n",
      "my height is : 5.5\n",
      "my name is : Amina\n",
      "My age is : 20\n",
      "my height is : 5.2\n"
     ]
    }
   ],
   "source": [
    "def info(name, age, height):\n",
    "    print(\"my name is :\", name)\n",
    "    print(\"My age is :\", age)\n",
    "    print(\"my height is :\", height)\n",
    "info(\"Rahul\",18,5.5)\n",
    "info(\"Amina\",20, 5.2)"
   ]
  },
  {
   "cell_type": "code",
   "execution_count": 31,
   "metadata": {},
   "outputs": [
    {
     "name": "stdout",
     "output_type": "stream",
     "text": [
      "______Bill______\n",
      "Food - : Samosa\n",
      "Price - : 230 Rs\n",
      "Gst : 2 %\n",
      "Gst : % Amount - : 36.8 Rs\n",
      "Final Qt Price - : 1840 Rs\n",
      "Total Bill Amount - : 1876.8 Rs\n",
      "________________\n",
      "______Bill______\n",
      "Food - : Jalebi\n",
      "Price - : 120 Rs\n",
      "Gst : 18 %\n",
      "Gst : % Amount - : 3240.0 Rs\n",
      "Final Qt Price - : 18000 Rs\n",
      "Total Bill Amount - : 21240.0 Rs\n",
      "________________\n",
      "______Bill______\n",
      "Food - : Toy\n",
      "Price - : 5630 Rs\n",
      "Gst : 9 %\n",
      "Gst : % Amount - : 3040.2 Rs\n",
      "Final Qt Price - : 33780 Rs\n",
      "Total Bill Amount - : 36820.2 Rs\n",
      "________________\n"
     ]
    }
   ],
   "source": [
    "def bill(food,price,gst,qt):\n",
    "    QtPrice = price*qt\n",
    "    GstAmount = QtPrice*gst/100\n",
    "    FinalPrice = QtPrice + GstAmount\n",
    "    print(\"______Bill______\")\n",
    "    print(\"Food - :\",food)\n",
    "    print(\"Price - :\", price, \"Rs\")\n",
    "    print(\"Gst :\", gst,\"%\")\n",
    "    print(\"Gst :\",\"%\",\"Amount - :\",GstAmount,\"Rs\")\n",
    "    print(\"Final Qt Price - :\",QtPrice, \"Rs\")\n",
    "    print(\"Total Bill Amount - :\", FinalPrice, \"Rs\")\n",
    "    print(\"________________\")\n",
    "\n",
    "bill(\"Samosa\",230,2,8)\n",
    "bill(\"Jalebi\",120,18,150)\n",
    "bill(\"Toy\",5630,9,6)"
   ]
  }
 ],
 "metadata": {
  "kernelspec": {
   "display_name": "Python 3",
   "language": "python",
   "name": "python3"
  },
  "language_info": {
   "codemirror_mode": {
    "name": "ipython",
    "version": 3
   },
   "file_extension": ".py",
   "mimetype": "text/x-python",
   "name": "python",
   "nbconvert_exporter": "python",
   "pygments_lexer": "ipython3",
   "version": "3.11.9"
  }
 },
 "nbformat": 4,
 "nbformat_minor": 2
}
